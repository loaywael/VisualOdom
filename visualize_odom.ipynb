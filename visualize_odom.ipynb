{
 "cells": [
  {
   "cell_type": "code",
   "execution_count": 29,
   "metadata": {},
   "outputs": [],
   "source": [
    "import open3d as o3d\n",
    "import numpy as np\n",
    "\n",
    "\n",
    "kittiViewConfig = {\n",
    "\t\"front\" : [ 0.61436206365743828, 0.7778069260281858, 0.13257315173578108 ],\n",
    "\t\"lookat\" : [ -2.2688942792806834, -2.0564596129625761, 25.345218262979024 ],\n",
    "\t\"up\" : [ 0.13144663660622841, 0.064779726179926014, -0.98920441204078946 ],\n",
    "\t\"zoom\" : 0.80000000000000004\n",
    "}\n",
    "\n",
    "arlViewConfig = {\n",
    "\t\"front\" : [ 0.14032498218918713, -0.66129788799997358, -0.73688126770897022 ],\n",
    "\t\"lookat\" : [ -238.91309204126125, -0.49583194291319788, -197.9434039965669 ],\n",
    "\t\"up\" : [ -0.93610005507780703, 0.15382843390896353, -0.31631234532411506 ],\n",
    "\t\"zoom\" : 1.1000000000000003\n",
    "}"
   ]
  },
  {
   "cell_type": "code",
   "execution_count": 33,
   "metadata": {},
   "outputs": [],
   "source": [
    "pt_arr = np.load('output/playground-arl-orb-mono-visual_odom.npz')['trajectory']\n",
    "pcObj = o3d.geometry.PointCloud()\n",
    "pcObj.points = o3d.utility.Vector3dVector(pt_arr)\n",
    "\n",
    "o3d.visualization.draw_geometries([pcObj], **arlViewConfig)"
   ]
  },
  {
   "cell_type": "code",
   "execution_count": null,
   "metadata": {},
   "outputs": [],
   "source": []
  }
 ],
 "metadata": {
  "interpreter": {
   "hash": "916dbcbb3f70747c44a77c7bcd40155683ae19c65e1c03b4aa3499c5328201f1"
  },
  "kernelspec": {
   "display_name": "Python 3.8.10 64-bit",
   "name": "python3"
  },
  "language_info": {
   "codemirror_mode": {
    "name": "ipython",
    "version": 3
   },
   "file_extension": ".py",
   "mimetype": "text/x-python",
   "name": "python",
   "nbconvert_exporter": "python",
   "pygments_lexer": "ipython3",
   "version": "3.8.10"
  },
  "orig_nbformat": 4
 },
 "nbformat": 4,
 "nbformat_minor": 2
}
